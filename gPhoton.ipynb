{
 "cells": [
  {
   "cell_type": "markdown",
   "metadata": {},
   "source": [
    "## How to run gPhoton\n",
    "\n",
    "We will start with the `gPhoton` module import. For further information, refer: https://github.com/cmillion/gPhoton/blob/master/docs/UserGuide.md \n",
    "\n",
    "Also, \"pretty-print” module for better looking printout. "
   ]
  },
  {
   "cell_type": "code",
   "execution_count": 1,
   "metadata": {},
   "outputs": [],
   "source": [
    "import gPhoton\n",
    "from pprint import pprint"
   ]
  },
  {
   "cell_type": "markdown",
   "metadata": {},
   "source": [
    "Now we run the `gFind` command to see what data there is for a specific set of sky coordinates. "
   ]
  },
  {
   "cell_type": "code",
   "execution_count": 2,
   "metadata": {},
   "outputs": [
    {
     "name": "stdout",
     "output_type": "stream",
     "text": [
      "NUV: 5864.0s (raw) in 6 exposures.\n",
      "    [ 750468768.995, 750468872.995 ], 104.000 seconds\n",
      "    [ 781633226.995, 781634932.995 ], 1706.000 seconds\n",
      "    [ 781639143.995, 781640848.995 ], 1705.000 seconds\n",
      "    [ 843691315.995, 843691575.995 ], 260.000 seconds\n",
      "    [ 843726230.995, 843727803.995 ], 1573.000 seconds\n",
      "    [ 904551520.995, 904552036.995 ], 516.000 seconds\n",
      "FUV: 5864.0s (raw) in 6 exposures.\n",
      "    [ 750468768.995, 750468872.995 ], 104.000 seconds\n",
      "    [ 781633226.995, 781634932.995 ], 1706.000 seconds\n",
      "    [ 781639143.995, 781640848.995 ], 1705.000 seconds\n",
      "    [ 843691315.995, 843691575.995 ], 260.000 seconds\n",
      "    [ 843726230.995, 843727803.995 ], 1573.000 seconds\n",
      "    [ 904551520.995, 904552036.995 ], 516.000 seconds\n"
     ]
    }
   ],
   "source": [
    "gfind_data = gPhoton.gFind(band = 'both', skypos= [352.6346883, -2.462370061])"
   ]
  },
  {
   "cell_type": "markdown",
   "metadata": {},
   "source": [
    "`gFind` outputs a nested dictionary which we have directed to the variable `gfind_data`"
   ]
  },
  {
   "cell_type": "code",
   "execution_count": 3,
   "metadata": {
    "scrolled": true
   },
   "outputs": [
    {
     "name": "stdout",
     "output_type": "stream",
     "text": [
      "{'FUV': {'expt': 5864.0,\n",
      "         'nearest_source': {'distance': 0.00014058602577707882,\n",
      "                            'mag': 18.22825,\n",
      "                            'skypos': [352.634607547268, -2.46248519337688]},\n",
      "         't0': array([7.50468769e+08, 7.81633227e+08, 7.81639144e+08, 8.43691316e+08,\n",
      "       8.43726231e+08, 9.04551521e+08]),\n",
      "         't1': array([7.50468873e+08, 7.81634933e+08, 7.81640849e+08, 8.43691576e+08,\n",
      "       8.43727804e+08, 9.04552037e+08])},\n",
      " 'NUV': {'expt': 5864.0,\n",
      "         'nearest_source': {'distance': 0.00014058602577707882,\n",
      "                            'mag': 17.76419,\n",
      "                            'skypos': [352.634607547268, -2.46248519337688]},\n",
      "         't0': array([7.50468769e+08, 7.81633227e+08, 7.81639144e+08, 8.43691316e+08,\n",
      "       8.43726231e+08, 9.04551521e+08]),\n",
      "         't1': array([7.50468873e+08, 7.81634933e+08, 7.81640849e+08, 8.43691576e+08,\n",
      "       8.43727804e+08, 9.04552037e+08])}}\n"
     ]
    }
   ],
   "source": [
    "pprint(gfind_data)"
   ]
  },
  {
   "cell_type": "markdown",
   "metadata": {},
   "source": [
    "The contents can be accessed as follows. Examples galore. "
   ]
  },
  {
   "cell_type": "code",
   "execution_count": 4,
   "metadata": {},
   "outputs": [
    {
     "name": "stdout",
     "output_type": "stream",
     "text": [
      "{'expt': 5864.0,\n",
      " 'nearest_source': {'distance': 0.00014058602577707882,\n",
      "                    'mag': 18.22825,\n",
      "                    'skypos': [352.634607547268, -2.46248519337688]},\n",
      " 't0': array([7.50468769e+08, 7.81633227e+08, 7.81639144e+08, 8.43691316e+08,\n",
      "       8.43726231e+08, 9.04551521e+08]),\n",
      " 't1': array([7.50468873e+08, 7.81634933e+08, 7.81640849e+08, 8.43691576e+08,\n",
      "       8.43727804e+08, 9.04552037e+08])}\n"
     ]
    }
   ],
   "source": [
    "pprint(gfind_data['FUV'])"
   ]
  },
  {
   "cell_type": "code",
   "execution_count": 5,
   "metadata": {},
   "outputs": [
    {
     "name": "stdout",
     "output_type": "stream",
     "text": [
      "array([7.50468769e+08, 7.81633227e+08, 7.81639144e+08, 8.43691316e+08,\n",
      "       8.43726231e+08, 9.04551521e+08])\n"
     ]
    }
   ],
   "source": [
    "pprint(gfind_data['FUV']['t0'])"
   ]
  },
  {
   "cell_type": "code",
   "execution_count": 6,
   "metadata": {},
   "outputs": [
    {
     "name": "stdout",
     "output_type": "stream",
     "text": [
      "array([7.50468873e+08, 7.81634933e+08, 7.81640849e+08, 8.43691576e+08,\n",
      "       8.43727804e+08, 9.04552037e+08])\n"
     ]
    }
   ],
   "source": [
    "pprint(gfind_data['FUV']['t1'])"
   ]
  },
  {
   "cell_type": "code",
   "execution_count": null,
   "metadata": {},
   "outputs": [],
   "source": []
  }
 ],
 "metadata": {
  "kernelspec": {
   "display_name": "Python 3",
   "language": "python",
   "name": "python3"
  },
  "language_info": {
   "codemirror_mode": {
    "name": "ipython",
    "version": 3
   },
   "file_extension": ".py",
   "mimetype": "text/x-python",
   "name": "python",
   "nbconvert_exporter": "python",
   "pygments_lexer": "ipython3",
   "version": "3.4.9"
  }
 },
 "nbformat": 4,
 "nbformat_minor": 2
}
