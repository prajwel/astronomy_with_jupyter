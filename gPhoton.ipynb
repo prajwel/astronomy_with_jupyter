{
 "cells": [
  {
   "cell_type": "markdown",
   "metadata": {},
   "source": [
    "# How to install Gphoton\n",
    "\n",
    "One way is to run `pip install gPhoton --user`. If you do a system wide install, then gMap will throw permission errors when you run the script locally. "
   ]
  },
  {
   "cell_type": "markdown",
   "metadata": {},
   "source": [
    "# How to run gPhoton\n",
    "\n",
    "We will start with the `gPhoton` module import. For further information, refer: https://github.com/cmillion/gPhoton/blob/master/docs/UserGuide.md \n",
    "\n",
    "Also, \"pretty-print” module for better looking printout. "
   ]
  },
  {
   "cell_type": "code",
   "execution_count": 2,
   "metadata": {},
   "outputs": [],
   "source": [
    "import gPhoton\n",
    "from pprint import pprint"
   ]
  },
  {
   "cell_type": "markdown",
   "metadata": {},
   "source": [
    "## gFind\n",
    "\n",
    "Now we run the `gFind` command to see what data there is for a specific set of sky coordinates. `GFind` will find the total exposure time available and the time ranges when observations were carried out. The function will print an output and return a nested dictionary. "
   ]
  },
  {
   "cell_type": "code",
   "execution_count": 2,
   "metadata": {},
   "outputs": [
    {
     "name": "stdout",
     "output_type": "stream",
     "text": [
      "NUV: 5864.0s (raw) in 6 exposures.\n",
      "    [ 750468768.995, 750468872.995 ], 104.000 seconds\n",
      "    [ 781633226.995, 781634932.995 ], 1706.000 seconds\n",
      "    [ 781639143.995, 781640848.995 ], 1705.000 seconds\n",
      "    [ 843691315.995, 843691575.995 ], 260.000 seconds\n",
      "    [ 843726230.995, 843727803.995 ], 1573.000 seconds\n",
      "    [ 904551520.995, 904552036.995 ], 516.000 seconds\n",
      "FUV: 5864.0s (raw) in 6 exposures.\n",
      "    [ 750468768.995, 750468872.995 ], 104.000 seconds\n",
      "    [ 781633226.995, 781634932.995 ], 1706.000 seconds\n",
      "    [ 781639143.995, 781640848.995 ], 1705.000 seconds\n",
      "    [ 843691315.995, 843691575.995 ], 260.000 seconds\n",
      "    [ 843726230.995, 843727803.995 ], 1573.000 seconds\n",
      "    [ 904551520.995, 904552036.995 ], 516.000 seconds\n"
     ]
    }
   ],
   "source": [
    "gfind_data = gPhoton.gFind(band = 'both', skypos= [352.6346883, -2.462370061])"
   ]
  },
  {
   "cell_type": "markdown",
   "metadata": {},
   "source": [
    "`gFind` outputs a nested dictionary which we have directed to the variable `gfind_data`"
   ]
  },
  {
   "cell_type": "code",
   "execution_count": 3,
   "metadata": {
    "scrolled": true
   },
   "outputs": [
    {
     "name": "stdout",
     "output_type": "stream",
     "text": [
      "{'FUV': {'expt': 5864.0,\n",
      "         'nearest_source': {'distance': 0.00014058602577707882,\n",
      "                            'mag': 18.22825,\n",
      "                            'skypos': [352.634607547268, -2.46248519337688]},\n",
      "         't0': array([7.50468769e+08, 7.81633227e+08, 7.81639144e+08, 8.43691316e+08,\n",
      "       8.43726231e+08, 9.04551521e+08]),\n",
      "         't1': array([7.50468873e+08, 7.81634933e+08, 7.81640849e+08, 8.43691576e+08,\n",
      "       8.43727804e+08, 9.04552037e+08])},\n",
      " 'NUV': {'expt': 5864.0,\n",
      "         'nearest_source': {'distance': 0.00014058602577707882,\n",
      "                            'mag': 17.76419,\n",
      "                            'skypos': [352.634607547268, -2.46248519337688]},\n",
      "         't0': array([7.50468769e+08, 7.81633227e+08, 7.81639144e+08, 8.43691316e+08,\n",
      "       8.43726231e+08, 9.04551521e+08]),\n",
      "         't1': array([7.50468873e+08, 7.81634933e+08, 7.81640849e+08, 8.43691576e+08,\n",
      "       8.43727804e+08, 9.04552037e+08])}}\n"
     ]
    }
   ],
   "source": [
    "pprint(gfind_data)"
   ]
  },
  {
   "cell_type": "markdown",
   "metadata": {},
   "source": [
    "The contents can be accessed as follows. Examples galore. "
   ]
  },
  {
   "cell_type": "code",
   "execution_count": 4,
   "metadata": {},
   "outputs": [
    {
     "name": "stdout",
     "output_type": "stream",
     "text": [
      "{'expt': 5864.0,\n",
      " 'nearest_source': {'distance': 0.00014058602577707882,\n",
      "                    'mag': 18.22825,\n",
      "                    'skypos': [352.634607547268, -2.46248519337688]},\n",
      " 't0': array([7.50468769e+08, 7.81633227e+08, 7.81639144e+08, 8.43691316e+08,\n",
      "       8.43726231e+08, 9.04551521e+08]),\n",
      " 't1': array([7.50468873e+08, 7.81634933e+08, 7.81640849e+08, 8.43691576e+08,\n",
      "       8.43727804e+08, 9.04552037e+08])}\n"
     ]
    }
   ],
   "source": [
    "pprint(gfind_data['FUV'])"
   ]
  },
  {
   "cell_type": "code",
   "execution_count": 5,
   "metadata": {},
   "outputs": [
    {
     "name": "stdout",
     "output_type": "stream",
     "text": [
      "array([7.50468769e+08, 7.81633227e+08, 7.81639144e+08, 8.43691316e+08,\n",
      "       8.43726231e+08, 9.04551521e+08])\n"
     ]
    }
   ],
   "source": [
    "pprint(gfind_data['FUV']['t0'])"
   ]
  },
  {
   "cell_type": "code",
   "execution_count": 6,
   "metadata": {},
   "outputs": [
    {
     "name": "stdout",
     "output_type": "stream",
     "text": [
      "array([7.50468873e+08, 7.81634933e+08, 7.81640849e+08, 8.43691576e+08,\n",
      "       8.43727804e+08, 9.04552037e+08])\n"
     ]
    }
   ],
   "source": [
    "pprint(gfind_data['FUV']['t1'])"
   ]
  },
  {
   "cell_type": "markdown",
   "metadata": {},
   "source": [
    "## gMap\n",
    "\n",
    "This function can be used in order to create images using the GALEX gPhoton database. It can create a datacube as well as a coadded image. Let us first try NUV. "
   ]
  },
  {
   "cell_type": "code",
   "execution_count": 3,
   "metadata": {
    "scrolled": true
   },
   "outputs": [
    {
     "name": "stdout",
     "output_type": "stream",
     "text": [
      "Downloading https://archive.stsci.edu/prepds/gphoton/cal/cal//NUV_flat.fits to /home/user/.local/lib/python3.7/site-packages/gPhoton/cal\n",
      "[========================================]  2.44Mb / 2.44Mb    \n"
     ]
    }
   ],
   "source": [
    "gPhoton.gMap(band = 'NUV', # it can be either FUV / NUV.\n",
    "             skypos = [352.6346883, -2.462370061], # the coordinates of the source.\n",
    "             skyrange=[0.1, 0.1], # size of the image to be created in degrees.\n",
    "             cntfile='nuv_cube.fits', # datacube file name (a more obvious name with the source would be preferred).\n",
    "             cntcoaddfile= 'nuv_coadd.fits') # coadded image file name (a more obvious name with the source would be preferred)."
   ]
  },
  {
   "cell_type": "markdown",
   "metadata": {},
   "source": [
    "After a successful run, you will be able to find nuv_cube.fits and nuv_coadd.fits. Now let us run `gMap` for FUV"
   ]
  },
  {
   "cell_type": "code",
   "execution_count": 5,
   "metadata": {
    "scrolled": false
   },
   "outputs": [
    {
     "name": "stdout",
     "output_type": "stream",
     "text": [
      "Downloading https://archive.stsci.edu/prepds/gphoton/cal/cal//FUV_flat.fits to /home/user/.local/lib/python3.7/site-packages/gPhoton/cal\n",
      "[========================================]  2.44Mb / 2.44Mb    \n"
     ]
    }
   ],
   "source": [
    "gPhoton.gMap(band = 'FUV', # it can be either FUV / NUV.\n",
    "             skypos = [352.6346883, -2.462370061], # the coordinates of the source.\n",
    "             skyrange=[0.1, 0.1], # size of the image to be created in degrees.\n",
    "             cntfile='fuv_cube.fits', # datacube file name (a more obvious name with the source would be preferred).\n",
    "             cntcoaddfile= 'fuv_coadd.fits') # coadded image file name (a more obvious name with the source would be preferred)."
   ]
  },
  {
   "cell_type": "markdown",
   "metadata": {},
   "source": [
    "## gAperture\n",
    "\n",
    "It can be used to get flux measurements for one particular source in different epochs. You can either specify the size of the time bins to use or let `gAperture` calculate flux measurements for each time ranges. The argument `stepsz` can be used to specify the time bin size in seconds. Aperture size needs to be specified in degrees. Optionally, background annulus can also be given. Once executed, gAperture will return a .CSV file as output. Let us first try with NUV band. \n"
   ]
  },
  {
   "cell_type": "code",
   "execution_count": null,
   "metadata": {},
   "outputs": [],
   "source": [
    " gPhoton.gAperture(band = 'NUV', # it can be either FUV / NUV.\n",
    "                   skypos = [352.6346883, -2.462370061], # the coordinates of the source.\n",
    "                   radius=0.005, # Source aperture radius in degrees.\n",
    "                   annulus=[0.0055, 0.0065], # [annulus inner radius, annulus outer radius] in degrees for background estimation.\n",
    "                   csvfile= 'nameofsource_NUV.csv')"
   ]
  },
  {
   "cell_type": "markdown",
   "metadata": {},
   "source": [
    "Check the CSV file nameofsource_NUV.csv and plot the light curve. Next, let us try FUV. "
   ]
  },
  {
   "cell_type": "code",
   "execution_count": null,
   "metadata": {},
   "outputs": [],
   "source": [
    " gPhoton.gAperture(band = 'FUV', # it can be either FUV / NUV.\n",
    "                   skypos = [352.6346883, -2.462370061], # the coordinates of the source.\n",
    "                   radius=0.005, # Source aperture radius in degrees.\n",
    "                   annulus=[0.0055, 0.0065], # [annulus inner radius, annulus outer radius] in degrees for background estimation.\n",
    "                   csvfile= 'nameofsource_FUV.csv')"
   ]
  },
  {
   "cell_type": "markdown",
   "metadata": {},
   "source": [
    "Plot the data to get the FUV lightcurve."
   ]
  },
  {
   "cell_type": "code",
   "execution_count": null,
   "metadata": {},
   "outputs": [],
   "source": []
  }
 ],
 "metadata": {
  "kernelspec": {
   "display_name": "Python 3",
   "language": "python",
   "name": "python3"
  },
  "language_info": {
   "codemirror_mode": {
    "name": "ipython",
    "version": 3
   },
   "file_extension": ".py",
   "mimetype": "text/x-python",
   "name": "python",
   "nbconvert_exporter": "python",
   "pygments_lexer": "ipython3",
   "version": "3.7.1"
  }
 },
 "nbformat": 4,
 "nbformat_minor": 2
}
