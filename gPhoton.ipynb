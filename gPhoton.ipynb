{
 "cells": [
  {
   "cell_type": "markdown",
   "metadata": {},
   "source": [
    "# How to install Gphoton\n",
    "\n",
    "One way is to run `pip install gPhoton --user`. If you do a system wide install, then gMap will throw permission errors when you run the script locally. "
   ]
  },
  {
   "cell_type": "markdown",
   "metadata": {},
   "source": [
    "# How to run gPhoton\n",
    "\n",
    "We will start with the `gPhoton` module import. For further information, refer: https://github.com/cmillion/gPhoton/blob/master/docs/UserGuide.md \n",
    "\n",
    "Also, \"pretty-print” module for better looking printout. "
   ]
  },
  {
   "cell_type": "code",
   "execution_count": 2,
   "metadata": {},
   "outputs": [],
   "source": [
    "import gPhoton\n",
    "from pprint import pprint"
   ]
  },
  {
   "cell_type": "markdown",
   "metadata": {},
   "source": [
    "## gFind\n",
    "\n",
    "Now we run the `gFind` command to see what data there is for a specific set of sky coordinates. `GFind` will find the total exposure time available and the time ranges when observations were carried out. The function will print an output and return a nested dictionary. "
   ]
  },
  {
   "cell_type": "code",
   "execution_count": 2,
   "metadata": {},
   "outputs": [
    {
     "name": "stdout",
     "output_type": "stream",
     "text": [
      "NUV: 5864.0s (raw) in 6 exposures.\n",
      "    [ 750468768.995, 750468872.995 ], 104.000 seconds\n",
      "    [ 781633226.995, 781634932.995 ], 1706.000 seconds\n",
      "    [ 781639143.995, 781640848.995 ], 1705.000 seconds\n",
      "    [ 843691315.995, 843691575.995 ], 260.000 seconds\n",
      "    [ 843726230.995, 843727803.995 ], 1573.000 seconds\n",
      "    [ 904551520.995, 904552036.995 ], 516.000 seconds\n",
      "FUV: 5864.0s (raw) in 6 exposures.\n",
      "    [ 750468768.995, 750468872.995 ], 104.000 seconds\n",
      "    [ 781633226.995, 781634932.995 ], 1706.000 seconds\n",
      "    [ 781639143.995, 781640848.995 ], 1705.000 seconds\n",
      "    [ 843691315.995, 843691575.995 ], 260.000 seconds\n",
      "    [ 843726230.995, 843727803.995 ], 1573.000 seconds\n",
      "    [ 904551520.995, 904552036.995 ], 516.000 seconds\n"
     ]
    }
   ],
   "source": [
    "gfind_data = gPhoton.gFind(band = 'both', skypos= [352.6346883, -2.462370061])"
   ]
  },
  {
   "cell_type": "markdown",
   "metadata": {},
   "source": [
    "`gFind` outputs a nested dictionary which we have directed to the variable `gfind_data`"
   ]
  },
  {
   "cell_type": "code",
   "execution_count": 3,
   "metadata": {
    "scrolled": true
   },
   "outputs": [
    {
     "name": "stdout",
     "output_type": "stream",
     "text": [
      "{'FUV': {'expt': 5864.0,\n",
      "         'nearest_source': {'distance': 0.00014058602577707882,\n",
      "                            'mag': 18.22825,\n",
      "                            'skypos': [352.634607547268, -2.46248519337688]},\n",
      "         't0': array([7.50468769e+08, 7.81633227e+08, 7.81639144e+08, 8.43691316e+08,\n",
      "       8.43726231e+08, 9.04551521e+08]),\n",
      "         't1': array([7.50468873e+08, 7.81634933e+08, 7.81640849e+08, 8.43691576e+08,\n",
      "       8.43727804e+08, 9.04552037e+08])},\n",
      " 'NUV': {'expt': 5864.0,\n",
      "         'nearest_source': {'distance': 0.00014058602577707882,\n",
      "                            'mag': 17.76419,\n",
      "                            'skypos': [352.634607547268, -2.46248519337688]},\n",
      "         't0': array([7.50468769e+08, 7.81633227e+08, 7.81639144e+08, 8.43691316e+08,\n",
      "       8.43726231e+08, 9.04551521e+08]),\n",
      "         't1': array([7.50468873e+08, 7.81634933e+08, 7.81640849e+08, 8.43691576e+08,\n",
      "       8.43727804e+08, 9.04552037e+08])}}\n"
     ]
    }
   ],
   "source": [
    "pprint(gfind_data)"
   ]
  },
  {
   "cell_type": "markdown",
   "metadata": {},
   "source": [
    "The contents can be accessed as follows. Examples galore. "
   ]
  },
  {
   "cell_type": "code",
   "execution_count": 4,
   "metadata": {},
   "outputs": [
    {
     "name": "stdout",
     "output_type": "stream",
     "text": [
      "{'expt': 5864.0,\n",
      " 'nearest_source': {'distance': 0.00014058602577707882,\n",
      "                    'mag': 18.22825,\n",
      "                    'skypos': [352.634607547268, -2.46248519337688]},\n",
      " 't0': array([7.50468769e+08, 7.81633227e+08, 7.81639144e+08, 8.43691316e+08,\n",
      "       8.43726231e+08, 9.04551521e+08]),\n",
      " 't1': array([7.50468873e+08, 7.81634933e+08, 7.81640849e+08, 8.43691576e+08,\n",
      "       8.43727804e+08, 9.04552037e+08])}\n"
     ]
    }
   ],
   "source": [
    "pprint(gfind_data['FUV'])"
   ]
  },
  {
   "cell_type": "code",
   "execution_count": 5,
   "metadata": {},
   "outputs": [
    {
     "name": "stdout",
     "output_type": "stream",
     "text": [
      "array([7.50468769e+08, 7.81633227e+08, 7.81639144e+08, 8.43691316e+08,\n",
      "       8.43726231e+08, 9.04551521e+08])\n"
     ]
    }
   ],
   "source": [
    "pprint(gfind_data['FUV']['t0'])"
   ]
  },
  {
   "cell_type": "code",
   "execution_count": 6,
   "metadata": {},
   "outputs": [
    {
     "name": "stdout",
     "output_type": "stream",
     "text": [
      "array([7.50468873e+08, 7.81634933e+08, 7.81640849e+08, 8.43691576e+08,\n",
      "       8.43727804e+08, 9.04552037e+08])\n"
     ]
    }
   ],
   "source": [
    "pprint(gfind_data['FUV']['t1'])"
   ]
  },
  {
   "cell_type": "markdown",
   "metadata": {},
   "source": [
    "## gMap\n",
    "\n",
    "This function can be used in order to create images using the GALEX gPhoton database. It can create a datacube as well as a coadded image. Let us first try NUV. "
   ]
  },
  {
   "cell_type": "code",
   "execution_count": 3,
   "metadata": {
    "scrolled": true
   },
   "outputs": [
    {
     "name": "stdout",
     "output_type": "stream",
     "text": [
      "Downloading https://archive.stsci.edu/prepds/gphoton/cal/cal//NUV_flat.fits to /home/user/.local/lib/python3.7/site-packages/gPhoton/cal\n",
      "[========================================]  2.44Mb / 2.44Mb    \n"
     ]
    }
   ],
   "source": [
    "gPhoton.gMap(band = 'NUV', # it can be either FUV / NUV.\n",
    "             skypos = [352.6346883, -2.462370061], # the coordinates of the source.\n",
    "             skyrange=[0.1, 0.1], # size of the image to be created in degrees.\n",
    "             cntfile='nuv_cube.fits', # datacube file name (a more obvious name with the source would be preferred).\n",
    "             cntcoaddfile= 'nuv_coadd.fits') # coadded image file name (a more obvious name with the source would be preferred)."
   ]
  },
  {
   "cell_type": "markdown",
   "metadata": {},
   "source": [
    "After a successful run, you will be able to find nuv_cube.fits and nuv_coadd.fits. Now let us run `gMap` for FUV"
   ]
  },
  {
   "cell_type": "code",
   "execution_count": 5,
   "metadata": {
    "scrolled": false
   },
   "outputs": [
    {
     "name": "stdout",
     "output_type": "stream",
     "text": [
      "Downloading https://archive.stsci.edu/prepds/gphoton/cal/cal//FUV_flat.fits to /home/user/.local/lib/python3.7/site-packages/gPhoton/cal\n",
      "[========================================]  2.44Mb / 2.44Mb    \n"
     ]
    }
   ],
   "source": [
    "gPhoton.gMap(band = 'FUV', # it can be either FUV / NUV.\n",
    "             skypos = [352.6346883, -2.462370061], # the coordinates of the source.\n",
    "             skyrange=[0.1, 0.1], # size of the image to be created in degrees.\n",
    "             cntfile='fuv_cube.fits', # datacube file name (a more obvious name with the source would be preferred).\n",
    "             cntcoaddfile= 'fuv_coadd.fits') # coadded image file name (a more obvious name with the source would be preferred)."
   ]
  },
  {
   "cell_type": "markdown",
   "metadata": {},
   "source": [
    "## gAperture\n",
    "\n",
    "It can be used to get flux measurements for one particular source in different epochs. You can either specify the size of the time bins to use or let `gAperture` calculate flux measurements for each time ranges. The argument `stepsz` can be used to specify the time bin size in seconds. Aperture size needs to be specified in degrees. Optionally, background annulus can also be given. Once executed, gAperture will return a .CSV file as output. Let us first try with NUV band. \n"
   ]
  },
  {
   "cell_type": "code",
   "execution_count": 7,
   "metadata": {},
   "outputs": [
    {
     "name": "stdout",
     "output_type": "stream",
     "text": [
      "Downloading https://archive.stsci.edu/prepds/gphoton/cal/cal//NUV_mask.fits to /home/user/.local/lib/python3.7/site-packages/gPhoton/cal\n",
      "[========================================]  2.44Mb / 2.44Mb    \n"
     ]
    },
    {
     "data": {
      "text/plain": [
       "{'params': {'band': 'NUV',\n",
       "  'ra0': 352.6346883,\n",
       "  'dec0': -2.462370061,\n",
       "  'skypos': [352.6346883, -2.462370061],\n",
       "  'trange': [750468768.995, 904552036.995],\n",
       "  'radius': 0.005,\n",
       "  'annulus': [0.0055, 0.0065],\n",
       "  'stepsz': False,\n",
       "  'verbose': 0,\n",
       "  'detsize': 1.25,\n",
       "  'apcorrect1': 0.06834645669291341,\n",
       "  'apcorrect2': 0.04,\n",
       "  'detbg': 0.45238934211693016,\n",
       "  'n_apersources': 5,\n",
       "  'n_bgsources': 0,\n",
       "  'max_bgmag': None,\n",
       "  'version': '1.28.9'},\n",
       " 't0': array([7.50468769e+08, 7.81633227e+08, 7.81639144e+08, 8.43691316e+08,\n",
       "        8.43726231e+08, 9.04551521e+08]),\n",
       " 't1': array([7.50468873e+08, 7.81634933e+08, 7.81640849e+08, 8.43691576e+08,\n",
       "        8.43727804e+08, 9.04552037e+08]),\n",
       " 'exptime': array([  91.82467705, 1502.27515058, 1477.82651786,  199.58544575,\n",
       "        1396.43515111,  363.34095454]),\n",
       " 't0_data': array([7.50468769e+08, 7.81633227e+08, 7.81639144e+08, 8.43691317e+08,\n",
       "        8.43726231e+08, 9.04551522e+08]),\n",
       " 't1_data': array([7.50468873e+08, 7.81634933e+08, 7.81640849e+08, 8.43691576e+08,\n",
       "        8.43727804e+08, 9.04552036e+08]),\n",
       " 't_mean': array([7.50468822e+08, 7.81634089e+08, 7.81639967e+08, 8.43691447e+08,\n",
       "        8.43727024e+08, 9.04551781e+08]),\n",
       " 'q_mean': array([13.42705822, 15.37136936, 15.3192215 ,  8.05169487, 11.93305302,\n",
       "         7.36504889]),\n",
       " 'counts': array([ 1227., 13084., 12283.,  1741., 13100.,  4698.]),\n",
       " 'flat_counts': array([ 1341.13730361, 15568.90876662, 14599.09899125,  2107.89906808,\n",
       "        14282.72032982,  5217.99918819]),\n",
       " 'responses': array([0.91505289, 0.8406767 , 0.84159247, 0.82617896, 0.91770062,\n",
       "        0.90068362]),\n",
       " 'detxs': array([602.7868042 , 397.22216797, 401.55941772, 302.9828186 ,\n",
       "        456.82138062, 364.33001709]),\n",
       " 'detys': array([300.51513672, 397.92181396, 399.09744263,  87.13246155,\n",
       "        620.01470947, 720.59729004]),\n",
       " 'detrad': array([225.87546564,   3.46917973,   1.80177508, 327.56439077,\n",
       "        227.23367198, 322.57552613]),\n",
       " 'racent': array([352.63444899, 352.63454557, 352.63463705, 352.63469203,\n",
       "        352.63464796, 352.63448079]),\n",
       " 'deccent': array([-2.46253972, -2.46239229, -2.46243357, -2.46243702, -2.4623932 ,\n",
       "        -2.46250778]),\n",
       " 'mcat_bg': array([ 131.16897049, 2166.04922044, 2125.69707522,  302.10836049,\n",
       "        1958.61941308,  547.3954409 ]),\n",
       " 'bg_counts': array([ 126., 1899., 1756.,  255., 1997.,  514.]),\n",
       " 'bg_flat_counts': array([ 114.78478183, 1597.56125281, 1476.59111784,  211.14552809,\n",
       "        1831.49619762,  463.06737766]),\n",
       " 'bg': array([ 239.13496215, 3328.25261003, 3076.23149551,  439.88651685,\n",
       "        3815.61707836,  964.72370346]),\n",
       " 'cps': array([14.60541269, 10.36355341,  9.87876372, 10.56138668, 10.22798683,\n",
       "        14.36116442]),\n",
       " 'cps_err': array([0.39882026, 0.08305764, 0.08175975, 0.23003612, 0.08558245,\n",
       "        0.19880974]),\n",
       " 'cps_bgsub': array([12.00115674,  8.1480787 ,  7.79717197,  8.3573857 ,  7.49558849,\n",
       "        11.70601726]),\n",
       " 'cps_bgsub_err': array([0.4329189 , 0.09150584, 0.08996225, 0.25290218, 0.09633821,\n",
       "        0.21640911]),\n",
       " 'cps_mcatbgsub': array([13.1769408 ,  8.92170755,  8.44036953,  9.04770737,  8.82540153,\n",
       "        12.85460306]),\n",
       " 'cps_mcatbgsub_err': array([0.41786854, 0.08864732, 0.08750985, 0.24596897, 0.09126204,\n",
       "        0.20897781]),\n",
       " 'flux': array([3.00871501e-15, 2.13489200e-15, 2.03502533e-15, 2.17564566e-15,\n",
       "        2.10696529e-15, 2.95839987e-15]),\n",
       " 'flux_err': array([8.21569734e-17, 1.71098745e-17, 1.68425091e-17, 4.73874411e-17,\n",
       "        1.76299838e-17, 4.09548058e-17]),\n",
       " 'flux_bgsub': array([2.47223829e-15, 1.67850421e-15, 1.60621743e-15, 1.72162146e-15,\n",
       "        1.54409123e-15, 2.41143956e-15]),\n",
       " 'flux_bgsub_err': array([8.91812941e-17, 1.88502026e-17, 1.85322238e-17, 5.20978487e-17,\n",
       "        1.98456710e-17, 4.45802766e-17]),\n",
       " 'flux_mcatbgsub': array([2.71444980e-15, 1.83787175e-15, 1.73871612e-15, 1.86382772e-15,\n",
       "        1.81803271e-15, 2.64804823e-15]),\n",
       " 'flux_mcatbgsub_err': array([8.60809185e-17, 1.82613474e-17, 1.80270300e-17, 5.06696078e-17,\n",
       "        1.87999794e-17, 4.30494282e-17]),\n",
       " 'mag': array([17.16871542, 17.54122827, 17.5932435 , 17.52069764, 17.5555246 ,\n",
       "        17.18702586]),\n",
       " 'mag_err_1': array([0.02924991, 0.00866684, 0.00894891, 0.02339441, 0.00904707,\n",
       "        0.01492737]),\n",
       " 'mag_err_2': array([0.03005978, 0.00873658, 0.00902329, 0.02390961, 0.00912309,\n",
       "        0.01513547]),\n",
       " 'mag_bgsub': array([17.38194223, 17.80236196, 17.85015722, 17.77482389, 17.89298566,\n",
       "        17.4089771 ]),\n",
       " 'mag_bgsub_err_1': array([0.03847599, 0.01212525, 0.0124553 , 0.03236807, 0.01386568,\n",
       "        0.01988872]),\n",
       " 'mag_bgsub_err_2': array([0.03988975, 0.01226219, 0.01259984, 0.03336276, 0.01404504,\n",
       "        0.02025986]),\n",
       " 'mag_mcatbgsub': array([17.28046351, 17.70388004, 17.76409635, 17.68865364, 17.71566382,\n",
       "        17.30735332]),\n",
       " 'mag_mcatbgsub_err_1': array([0.03389632, 0.01073478, 0.01119897, 0.02912249, 0.01116977,\n",
       "        0.01750892]),\n",
       " 'mag_mcatbgsub_err_2': array([0.03498874, 0.01084198, 0.01131569, 0.02992522, 0.01128587,\n",
       "        0.01779591]),\n",
       " 'photons': {'t': array([7.50468771e+08, 7.50468772e+08, 7.50468774e+08, ...,\n",
       "         9.04552035e+08, 9.04552035e+08, 9.04552036e+08]),\n",
       "  'ra': array([352.6350152 , 352.63602314, 352.63474854, ..., 352.63152089,\n",
       "         352.63812363, 352.63740107]),\n",
       "  'dec': array([-2.46767634, -2.46787106, -2.46753742, ..., -2.4582328 ,\n",
       "         -2.45815407, -2.45707623]),\n",
       "  'xi': array([12008.94  , 11961.21  , 11979.11  , ...,  -833.1801, -1050.311 ,\n",
       "         -1017.284 ], dtype=float32),\n",
       "  'eta': array([-6061.691, -6091.858, -6063.509, ..., 19709.59 , 19815.14 ,\n",
       "         19845.47 ], dtype=float32),\n",
       "  'x': array([17468.37 , 17370.54 , 17430.13 , ..., -1095.673, -1409.037,\n",
       "         -1375.899], dtype=float32),\n",
       "  'y': array([-8616.15, -8574.12, -8574.12, ..., 27277.47, 27389.55, 27459.6 ],\n",
       "        dtype=float32),\n",
       "  'flag': array([0, 0, 0, ..., 0, 0, 0], dtype=int32),\n",
       "  'q': array([10., 14., 13., ...,  7.,  6.,  3.], dtype=float32),\n",
       "  'col': array([600.149  , 599.3535 , 599.6518 , ..., 386.11368, 382.4948 ,\n",
       "         383.04526], dtype=float32),\n",
       "  'row': array([298.97183, 298.46902, 298.94153, ..., 728.49316, 730.2524 ,\n",
       "         730.7579 ], dtype=float32),\n",
       "  'flat': array([0.8647002 , 0.8777133 , 0.8777133 , ..., 0.90326   , 0.91220707,\n",
       "         0.90212154], dtype=float32),\n",
       "  'scale': array([1.04167555, 1.04167555, 1.04167555, ..., 0.99323493, 0.99323493,\n",
       "         0.99323493]),\n",
       "  'response': array([0.90073706, 0.91429251, 0.91429251, ..., 0.89714937, 0.90603592,\n",
       "         0.89601863])},\n",
       " 'flags': array([ 0., 65., 65., 32.,  0., 32.])}"
      ]
     },
     "execution_count": 7,
     "metadata": {},
     "output_type": "execute_result"
    }
   ],
   "source": [
    " gPhoton.gAperture(band = 'NUV', # it can be either FUV / NUV.\n",
    "                   skypos = [352.6346883, -2.462370061], # the coordinates of the source.\n",
    "                   radius=0.005, # Source aperture radius in degrees.\n",
    "                   annulus=[0.0055, 0.0065], # [annulus inner radius, annulus outer radius] in degrees for background estimation.\n",
    "                   csvfile= 'nameofsource_NUV.csv')"
   ]
  },
  {
   "cell_type": "markdown",
   "metadata": {},
   "source": [
    "Check the CSV file nameofsource_NUV.csv and plot the light curve. Next, let us try FUV. "
   ]
  },
  {
   "cell_type": "code",
   "execution_count": null,
   "metadata": {},
   "outputs": [],
   "source": [
    " gPhoton.gAperture(band = 'FUV', # it can be either FUV / NUV.\n",
    "                   skypos = [352.6346883, -2.462370061], # the coordinates of the source.\n",
    "                   radius=0.005, # Source aperture radius in degrees.\n",
    "                   annulus=[0.0055, 0.0065], # [annulus inner radius, annulus outer radius] in degrees for background estimation.\n",
    "                   csvfile= 'nameofsource_FUV.csv')"
   ]
  },
  {
   "cell_type": "markdown",
   "metadata": {},
   "source": [
    "Plot the data to get the FUV lightcurve."
   ]
  },
  {
   "cell_type": "code",
   "execution_count": null,
   "metadata": {},
   "outputs": [],
   "source": []
  }
 ],
 "metadata": {
  "kernelspec": {
   "display_name": "Python 3",
   "language": "python",
   "name": "python3"
  },
  "language_info": {
   "codemirror_mode": {
    "name": "ipython",
    "version": 3
   },
   "file_extension": ".py",
   "mimetype": "text/x-python",
   "name": "python",
   "nbconvert_exporter": "python",
   "pygments_lexer": "ipython3",
   "version": "3.7.1"
  }
 },
 "nbformat": 4,
 "nbformat_minor": 2
}
